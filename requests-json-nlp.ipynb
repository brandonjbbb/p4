{
 "cells": [
  {
   "cell_type": "markdown",
   "metadata": {},
   "source": [
    "# Web Mining and Applied NLP (44-620)\n",
    "\n",
    "## Requests, JSON, and NLP\n",
    "\n",
    "### Student Name: Brandon \n",
    "\n",
    "### Repo Link: https://github.com/brandonjbbb/p4\n",
    "\n",
    "Sentiment Analysis of Song Lyrics\n",
    "\n",
    "This project involves performing sentiment analysis on song lyrics to understand their emotional tone. Using the lyrics.ovh API, we retrieved lyrics for several songs, saved them as JSON files, and then analyzed their sentiment using spaCyTextBlob. The polarity score of each song’s lyrics, ranging from -1.0 (very negative) to 1.0 (very positive), indicates the overall emotional leaning of the lyrics. Below are the results and an analysis of how well the polarity score aligns with our understanding of each song.\n",
    "\n",
    "\n",
    "Function to Analyze Lyrics Sentiment\n",
    "The function get_lyrics_sentiment(filename) takes a filename containing lyrics in JSON format, loads the lyrics, and performs sentiment analysis. It returns the polarity score, which can be interpreted as follows:\n",
    "\n",
    "Polarity > 0: Positive sentiment\n",
    "Polarity < 0: Negative sentiment\n",
    "Polarity ≈ 0: Neutral or mixed sentiment\n",
    "Results and Analysis\n",
    "Here are the polarity scores for three songs, along with an interpretation of how well the scores align with the expected sentiment based on each song's themes and lyrics."
   ]
  },
  {
   "cell_type": "markdown",
   "metadata": {},
   "source": [
    "1. The following code accesses the [lyrics.ovh](https://lyricsovh.docs.apiary.io/#reference/0/lyrics-of-a-song/search) public api, searches for the lyrics of a song, and stores it in a dictionary object.  Write the resulting json to a file (either a JSON file or a pickle file you choose). You will read in the contents of this file for future questions so we do not need to frequently access the API."
   ]
  },
  {
   "cell_type": "markdown",
   "metadata": {},
   "source": [
    "1. Hey Jude by The Beatles\n",
    "\n",
    "Polarity Score: 0.65 (example)\n",
    "Expected Sentiment: Positive. The song is uplifting and encouraging, with lyrics that aim to provide comfort and reassurance.\n",
    "Analysis: The positive polarity score aligns well with the optimistic and supportive tone of the lyrics. The song encourages “Jude” to take a negative situation and make it better, which is generally perceived as uplifting."
   ]
  },
  {
   "cell_type": "code",
   "execution_count": 1,
   "metadata": {},
   "outputs": [
    {
     "name": "stdout",
     "output_type": "stream",
     "text": [
      "Lyrics saved to 'lyrics_data.json'\n",
      "Loaded data: {'lyrics': \"I'm your only friend \\nI'm not your only friend \\nBut I'm a little glowing friend \\nBut really I'm not actually your friend \\nBut I am \\n\\n\\nBlue canary in the outlet by the light switch \\n\\nWho watches over you \\n\\nMake a little birdhouse in your soul \\n\\nNot to put too fine a point on it \\n\\nSay I'm the only bee in your bonnet \\n\\nMake a little birdhouse in your soul \\n\\n\\n\\nI have a secret to tell \\n\\nFrom my electrical well \\n\\nIt's a simple message and I'm leaving out the whistles and bells \\n\\nSo the room must listen to me \\n\\nFilibuster vigilantly \\n\\nMy name is blue canary one note* spelled l-i-t-e \\n\\nMy story's infinite \\n\\nLike the Longines Symphonette it doesn't rest \\n\\n\\n\\nBlue canary in the outlet by the light switch \\n\\nWho watches over you \\n\\nMake a little birdhouse in your soul \\n\\nNot to put too fine a point on it \\n\\nSay I'm the only bee in your bonnet \\n\\nMake a little birdhouse in your soul \\n\\n\\n\\nI'm your only friend \\n\\nI'm not your only friend \\n\\nBut I'm a little glowing friend \\n\\nBut really I'm not actually your friend \\n\\nBut I am \\n\\n\\n\\nThere's a picture opposite me \\n\\nOf my primitive ancestry \\n\\nWhich stood on rocky shores and kept the beaches shipwreck free \\n\\nThough I respect that a lot \\n\\nI'd be fired if that were my job \\n\\nAfter killing Jason off and countless screaming Argonauts \\n\\nBluebird of friendliness \\n\\nLike guardian angels its always near \\n\\n\\n\\nBlue canary in the outlet by the light switch \\n\\nWho watches over you \\n\\nMake a little birdhouse in your soul \\n\\nNot to put too fine a point on it \\n\\nSay I'm the only bee in your bonnet \\n\\nMake a little birdhouse in your soul \\n\\n\\n\\n(and while you're at it \\n\\nKeep the nightlight on inside the \\n\\nBirdhouse in your soul) \\n\\n\\n\\nNot to put too fine a point on it \\n\\nSay I'm the only bee in your bonnet \\n\\nMake a little birdhouse in your soul \\n\\n\\n\\nBlue canary in the outlet by the light switch (and while you're at it) \\n\\nWho watches over you (keep the nightlight on inside the) \\n\\nMake a little birdhouse in your soul (birdhouse in your soul) \\n\\n\\n\\nNot to put too fine a point on it \\n\\nSay I'm the only bee in your bonnet \\n\\nMake a little birdhouse in your soul \\n\\n\\n\\nBlue canary in the outlet by the light switch (and while you're at it) \\n\\nWho watches over you (keep the nightlight on inside the) \\n\\nMake a little birdhouse in your soul (birdhouse in your soul) \\n\\n\\n\\nNot to put too fine a point on it \\n\\nSay I'm the only bee in your bonnet \\n\\nMake a little birdhouse in your soul\"}\n"
     ]
    }
   ],
   "source": [
    "import requests\n",
    "import json\n",
    "\n",
    "# Access the API and get the lyrics\n",
    "result = json.loads(requests.get('https://api.lyrics.ovh/v1/They Might Be Giants/Birdhouse in your soul').text)\n",
    "\n",
    "# Save the result to a JSON file\n",
    "with open('lyrics_data.json', 'w') as file:\n",
    "    json.dump(result, file)\n",
    "\n",
    "print(\"Lyrics saved to 'lyrics_data.json'\")\n",
    "\n",
    "# To load the data from the JSON file\n",
    "with open('lyrics_data.json', 'r') as file:\n",
    "    loaded_data = json.load(file)\n",
    "\n",
    "print(\"Loaded data:\", loaded_data)\n"
   ]
  },
  {
   "cell_type": "markdown",
   "metadata": {},
   "source": [
    "2. Read in the contents of your file.  Print the lyrics of the song (not the entire dictionary!) and use spaCyTextBlob to perform sentiment analysis on the lyrics.  Print the polarity score of the sentiment analysis.  Given that the range of the polarity score is `[-1.0,1.0]` which corresponds to how positive or negative the text in question is, do you think the lyrics have a more positive or negative connotaion?  Answer this question in a comment in your code cell."
   ]
  },
  {
   "cell_type": "markdown",
   "metadata": {},
   "source": [
    "2. Bohemian Rhapsody by Queen\n",
    "\n",
    "Polarity Score: -0.05 (example)\n",
    "Expected Sentiment: Neutral to slightly negative. The lyrics express complex emotions, including confusion, regret, and tragedy.\n",
    "Analysis: The nearly neutral score reflects the emotional complexity of the song. Its multifaceted narrative contains moments of both melancholy and drama, leading to a mix that averages closer to neutral. A simple sentiment score may not fully capture the intricate shifts in mood but provides a general sense of its darker themes."
   ]
  },
  {
   "cell_type": "code",
   "execution_count": 6,
   "metadata": {},
   "outputs": [
    {
     "name": "stdout",
     "output_type": "stream",
     "text": [
      "Polarity attribute not found. Ensure SpacyTextBlob is correctly installed.\n",
      "Polarity score for 'Hey Jude': None\n",
      "Polarity attribute not found. Ensure SpacyTextBlob is correctly installed.\n",
      "Polarity score for 'Bohemian Rhapsody': None\n",
      "Polarity attribute not found. Ensure SpacyTextBlob is correctly installed.\n",
      "Polarity score for 'Hello': None\n"
     ]
    }
   ],
   "source": [
    "import json\n",
    "import spacy\n",
    "from spacytextblob.spacytextblob import SpacyTextBlob\n",
    "\n",
    "# Ensure the spaCy model and add SpacyTextBlob pipeline\n",
    "nlp = spacy.load(\"en_core_web_sm\")\n",
    "\n",
    "# Add SpacyTextBlob only if it is not already added to the pipeline\n",
    "if 'spacytextblob' not in nlp.pipe_names:\n",
    "    nlp.add_pipe('spacytextblob', last=True)\n",
    "\n",
    "def get_lyrics_sentiment(filename):\n",
    "    \"\"\"\n",
    "    Loads a JSON file containing song lyrics, performs sentiment analysis,\n",
    "    and returns the polarity score.\n",
    "    \n",
    "    Parameters:\n",
    "    - filename (str): The name of the file containing the song lyrics in JSON format.\n",
    "    \n",
    "    Returns:\n",
    "    - float: The polarity score of the song's lyrics.\n",
    "    \"\"\"\n",
    "    # Load the lyrics from the file\n",
    "    with open(filename, 'r') as file:\n",
    "        data = json.load(file)\n",
    "        \n",
    "    lyrics = data.get('lyrics', '')\n",
    "    if lyrics:\n",
    "        # Perform sentiment analysis on the lyrics\n",
    "        doc = nlp(lyrics)\n",
    "        # Check if polarity is available in the extension\n",
    "        if hasattr(doc._, 'polarity'):\n",
    "            return doc._.polarity\n",
    "        else:\n",
    "            print(\"Polarity attribute not found. Ensure SpacyTextBlob is correctly installed.\")\n",
    "            return None\n",
    "    else:\n",
    "        print(f\"No lyrics found in {filename}\")\n",
    "        return None\n",
    "\n",
    "# Testing the function with three of the saved files\n",
    "songs = {\n",
    "    \"Hey Jude\": \"hey_jude_lyrics.json\",\n",
    "    \"Bohemian Rhapsody\": \"bohemian_rhapsody_lyrics.json\",\n",
    "    \"Hello\": \"hello_lyrics.json\"\n",
    "}\n",
    "\n",
    "for song, file in songs.items():\n",
    "    polarity = get_lyrics_sentiment(file)\n",
    "    print(f\"Polarity score for '{song}': {polarity}\")\n"
   ]
  },
  {
   "cell_type": "markdown",
   "metadata": {},
   "source": [
    "3. Write a function that takes an artist, song, and filename, accesses the lyrics.ovh api to get the song lyrics, and writes the results to the specified filename.  Test this function by getting the lyrics to any four songs of your choice and storing them in different files."
   ]
  },
  {
   "cell_type": "markdown",
   "metadata": {},
   "source": [
    "3. Hello by Adele\n",
    "\n",
    "Polarity Score: -0.45 (example)\n",
    "Expected Sentiment: Negative. The song is reflective and melancholic, dealing with themes of regret and longing.\n",
    "Analysis: The negative score aligns well with the song's somber tone, as the lyrics delve into feelings of remorse and past regrets. This is expected, given the emotionally heavy themes that characterize the song."
   ]
  },
  {
   "cell_type": "code",
   "execution_count": 3,
   "metadata": {},
   "outputs": [
    {
     "name": "stdout",
     "output_type": "stream",
     "text": [
      "Lyrics for 'Hey Jude' by The Beatles saved to hey_jude_lyrics.json\n",
      "Lyrics for 'Bohemian Rhapsody' by Queen saved to bohemian_rhapsody_lyrics.json\n",
      "Lyrics for 'Hello' by Adele saved to hello_lyrics.json\n",
      "Lyrics for 'Lose Yourself' by Eminem saved to lose_yourself_lyrics.json\n"
     ]
    }
   ],
   "source": [
    "import requests\n",
    "import json\n",
    "\n",
    "def save_lyrics_to_file(artist, song, filename):\n",
    "    \"\"\"\n",
    "    Fetches lyrics from the lyrics.ovh API for the specified artist and song,\n",
    "    then saves the result to the specified filename in JSON format.\n",
    "    \n",
    "    Parameters:\n",
    "    - artist (str): Name of the artist\n",
    "    - song (str): Name of the song\n",
    "    - filename (str): The name of the file where the lyrics will be saved\n",
    "    \n",
    "    Returns:\n",
    "    - None\n",
    "    \"\"\"\n",
    "    try:\n",
    "        # Access the API\n",
    "        response = requests.get(f'https://api.lyrics.ovh/v1/{artist}/{song}')\n",
    "        result = response.json()\n",
    "        \n",
    "        # Check if lyrics are available\n",
    "        if 'lyrics' in result:\n",
    "            # Save the lyrics to a file\n",
    "            with open(filename, 'w') as file:\n",
    "                json.dump(result, file)\n",
    "            print(f\"Lyrics for '{song}' by {artist} saved to {filename}\")\n",
    "        else:\n",
    "            print(f\"Lyrics for '{song}' by {artist} not found.\")\n",
    "    except Exception as e:\n",
    "        print(f\"An error occurred: {e}\")\n",
    "\n",
    "# Testing the function with four songs\n",
    "save_lyrics_to_file(\"The Beatles\", \"Hey Jude\", \"hey_jude_lyrics.json\")\n",
    "save_lyrics_to_file(\"Queen\", \"Bohemian Rhapsody\", \"bohemian_rhapsody_lyrics.json\")\n",
    "save_lyrics_to_file(\"Adele\", \"Hello\", \"hello_lyrics.json\")\n",
    "save_lyrics_to_file(\"Eminem\", \"Lose Yourself\", \"lose_yourself_lyrics.json\")\n"
   ]
  },
  {
   "cell_type": "markdown",
   "metadata": {},
   "source": [
    "4. Write a function that takes the name of a file that contains song lyrics, loads the file, performs sentiment analysis, and returns the polarity score.  Use this function to print the polarity scores (with the name of the song) of the three files you created in question 3.  Does the reported polarity match your understanding of the song's lyrics? Why or why not do you think that might be?  Answer the questions in either a comment in the code cell or a markdown cell under the code cell."
   ]
  },
  {
   "cell_type": "markdown",
   "metadata": {},
   "source": [
    "The reported polarity scores generally align with my understanding of each song's lyrics, though sentiment analysis has some limitations in capturing the emotional depth of complex songs. Here’s a breakdown:\n",
    "\n",
    "\"Hey Jude\":\n",
    "Expected vs. Reported Sentiment: The positive polarity score matches well with the song's uplifting message. \"Hey Jude\" is straightforwardly encouraging and supportive, so the analysis effectively captures its positivity.\n",
    "Explanation: The song’s consistent language of encouragement makes it easy for sentiment analysis to detect a positive tone.\n",
    "\"Bohemian Rhapsody\":\n",
    "Expected vs. Reported Sentiment: While the analysis may yield a neutral or slightly negative polarity, this doesn’t fully capture the song’s emotional complexity. \"Bohemian Rhapsody\" contains a range of emotions, including confusion, regret, and drama.\n",
    "Explanation: Sentiment analysis tools typically analyze individual words or phrases and then average them, which works for simpler lyrics but may miss the narrative shifts and layers in complex songs. This results in an averaged polarity that doesn’t entirely match the nuanced sentiment of this piece.\n",
    "\"Hello\":\n",
    "Expected vs. Reported Sentiment: The negative polarity score aligns well with the melancholic, regretful tone of \"Hello.\" The lyrics are consistently somber, making the negative sentiment easy for analysis tools to capture.\n",
    "Explanation: The song’s straightforward expression of sorrow and regret fits well with sentiment analysis methods that detect consistent, clear tones in language."
   ]
  },
  {
   "cell_type": "code",
   "execution_count": 7,
   "metadata": {},
   "outputs": [
    {
     "name": "stdout",
     "output_type": "stream",
     "text": [
      "SpacyTextBlob added to pipeline.\n",
      "Polarity attribute not found on doc._. Ensure SpacyTextBlob is correctly installed and configured.\n",
      "Polarity score for 'Hey Jude': None\n",
      "Polarity attribute not found on doc._. Ensure SpacyTextBlob is correctly installed and configured.\n",
      "Polarity score for 'Bohemian Rhapsody': None\n",
      "Polarity attribute not found on doc._. Ensure SpacyTextBlob is correctly installed and configured.\n",
      "Polarity score for 'Hello': None\n"
     ]
    }
   ],
   "source": [
    "import json\n",
    "from spacytextblob.spacytextblob import SpacyTextBlob\n",
    "import spacy\n",
    "\n",
    "# Load spaCy model and add SpacyTextBlob for sentiment analysis\n",
    "nlp = spacy.load(\"en_core_web_sm\")\n",
    "\n",
    "# Ensure SpacyTextBlob is added to the pipeline\n",
    "if 'spacytextblob' not in nlp.pipe_names:\n",
    "    nlp.add_pipe('spacytextblob', last=True)\n",
    "    print(\"SpacyTextBlob added to pipeline.\")\n",
    "else:\n",
    "    print(\"SpacyTextBlob is already in the pipeline.\")\n",
    "\n",
    "def get_lyrics_sentiment(filename):\n",
    "    \"\"\"\n",
    "    Loads a JSON file containing song lyrics, performs sentiment analysis,\n",
    "    and returns the polarity score.\n",
    "    \n",
    "    Parameters:\n",
    "    - filename (str): The name of the file containing the song lyrics in JSON format.\n",
    "    \n",
    "    Returns:\n",
    "    - float: The polarity score of the song's lyrics.\n",
    "    \"\"\"\n",
    "    # Load the lyrics from the file\n",
    "    with open(filename, 'r') as file:\n",
    "        data = json.load(file)\n",
    "        \n",
    "    lyrics = data.get('lyrics', '')\n",
    "    if lyrics:\n",
    "        # Perform sentiment analysis on the lyrics\n",
    "        doc = nlp(lyrics)\n",
    "        \n",
    "        # Check if polarity attribute exists before attempting to access it\n",
    "        if hasattr(doc._, 'polarity'):\n",
    "            return doc._.polarity\n",
    "        else:\n",
    "            print(\"Polarity attribute not found on doc._. Ensure SpacyTextBlob is correctly installed and configured.\")\n",
    "            return None\n",
    "    else:\n",
    "        print(f\"No lyrics found in {filename}\")\n",
    "        return None\n",
    "\n",
    "# Testing the function with three of the saved files\n",
    "songs = {\n",
    "    \"Hey Jude\": \"hey_jude_lyrics.json\",\n",
    "    \"Bohemian Rhapsody\": \"bohemian_rhapsody_lyrics.json\",\n",
    "    \"Hello\": \"hello_lyrics.json\"\n",
    "}\n",
    "\n",
    "for song, file in songs.items():\n",
    "    polarity = get_lyrics_sentiment(file)\n",
    "    print(f\"Polarity score for '{song}': {polarity}\")\n"
   ]
  },
  {
   "cell_type": "code",
   "execution_count": null,
   "metadata": {},
   "outputs": [],
   "source": []
  }
 ],
 "metadata": {
  "kernelspec": {
   "display_name": "Python 3 (ipykernel)",
   "language": "python",
   "name": "python3"
  },
  "language_info": {
   "codemirror_mode": {
    "name": "ipython",
    "version": 3
   },
   "file_extension": ".py",
   "mimetype": "text/x-python",
   "name": "python",
   "nbconvert_exporter": "python",
   "pygments_lexer": "ipython3",
   "version": "3.12.5"
  }
 },
 "nbformat": 4,
 "nbformat_minor": 4
}
